{
  "nbformat": 4,
  "nbformat_minor": 0,
  "metadata": {
    "colab": {
      "name": "Water_quality1",
      "provenance": [],
      "collapsed_sections": [],
      "include_colab_link": true
    },
    "kernelspec": {
      "name": "python3",
      "display_name": "Python 3"
    },
    "language_info": {
      "name": "python"
    }
  },
  "cells": [
    {
      "cell_type": "markdown",
      "metadata": {
        "id": "view-in-github",
        "colab_type": "text"
      },
      "source": [
        "<a href=\"https://colab.research.google.com/github/Leito2022/Water_qualit/blob/Leo/Water_quality1.ipynb\" target=\"_parent\"><img src=\"https://colab.research.google.com/assets/colab-badge.svg\" alt=\"Open In Colab\"/></a>"
      ]
    },
    {
      "cell_type": "markdown",
      "source": [
        "# **ÍNDICE**\n",
        "\n",
        "1.  INTRODUCCIÓN\n",
        "2.  PREPROCESAMIENTO DE DATOS\n",
        "3.  MODELO DE REGRESIÓN LINEAL\n",
        "4.  MODELO NAIVE BAYES\n",
        "5.  MODELO ADA BOOST\n",
        "6.  CONCLUSIÓN"
      ],
      "metadata": {
        "id": "EPtQkJg0Krt_"
      }
    },
    {
      "cell_type": "markdown",
      "source": [
        "# **INTRODUCCIÓN**\n",
        "**CALIDAD DEL AGUA** (Water_Quality)\n",
        "\n",
        "Data set: https://www.kaggle.com/datasets/adityakadiwal/water-potability .\n",
        "\n",
        "Autor: Rodríguez Jorge Leonardo.\n",
        "\n",
        "El presente proyecto intentará generar un modelo de clasificación que permita determinar si una muestra de agua posee las condiciones de potabilidad o no, algo bastante útil para aquellas empresas que utilicen o manipulen el agua en sus procesos productivos.\n",
        "\n",
        "Podemos hacer una breve descripción de las features que presenta el dataset:\n",
        "\n",
        "\n",
        "\n",
        "1.   pH value: Ph es un importante parametro en la evaluación del balance ácido del agua. Indica acidez o alcalinidad del agua. WHO () recomienda un limite de ph entre 6.5 y 8.5.\n",
        "2.   Hardness (Dureza): Es causado por las sales de calcio y el magnesio. Estas sales se disuelven de depositos geologicos por donde viajan el agua.\n",
        "3.   Solids (Sólidos): El agua tiene la capacidad de disolver diversos solidos que alteran el sabor o el color del agua. Es un parametro importante para la potabilidad del agua. Un valor alto indica que el agua esta altamente mineralizada, es deseable un valor 500mg/l y un máximo de 1000mg/l.\n",
        "4.   Chloramines(Cloramina):El cloro y la cloramina son los principales desinfectantes utilizados en los sistemas públicos de agua. Las cloraminas se forman más comúnmente cuando se agrega amoníaco al cloro para tratar el agua potable. Los niveles de cloro de hasta 4 miligramos por litro (mg/L o 4 partes por millón (ppm)) se consideran seguros en el agua potable.\n",
        "5.   Sulfate (Sulfato): El sulfato es una sustancia natural que se encuentra en los minerales, el suelo y las rocas. Son utilizados en la industria química. Un valor deseable para la potabilidad es de 3mg/l a 30mg/l.\n",
        "6.   Conductivity(Conductividad): El agua pura no es un buen conductor de corriente eléctrica, sino un buen aislante. El aumento de la concentración de iones mejora la conductividad eléctrica del agua. Generalmente, la cantidad de sólidos disueltos en el agua determina la conductividad eléctrica. La conductividad eléctrica (CE) en realidad mide el proceso iónico de una solución que le permite transmitir corriente. De acuerdo con las normas de la OMS, el valor CE no debe exceder de 400 μS/cm.\n",
        "7.   Organic_carbon (Carbón Organico): El carbono orgánico total (TOC, Total Organic Carbon) en las aguas de origen proviene de la materia orgánica natural en descomposición (NOM, Natural Organic Matter), así como de fuentes sintéticas. El TOC es una medida de la cantidad total de carbono en compuestos orgánicos en agua pura. De acuerdo con la EPA de los Estados Unidos, < 2 mg / L como TOC en agua tratada / potable, y < 4 mg / Lit en agua de origen que se utiliza para el tratamiento.\n",
        "8.   Trihalomethanes (Trihalometanos): Los THM son sustancias químicas que se pueden encontrar en el agua tratada con cloro. La concentración de THM en el agua potable varía según el nivel de material orgánico en el agua, la cantidad de cloro requerida para tratar el agua y la temperatura del agua que se está tratando. Los niveles de THM de hasta 80 ppm se consideran seguros en el agua potable.\n",
        "9.   Turbity (Turbidez): La turbidez del agua depende de la cantidad de materia sólida presente en estado suspensivo. Es una medida de las propiedades emisoras de luz del agua y la prueba se utiliza para indicar la calidad de la descarga de residuos con respecto a la materia coloidal. El valor medio de turbidez obtenido para Wondo Genet Campus (0,98 NTU) es inferior al valor recomendado por la OMS de 5,00 NTU.\n",
        "10.  Potability (Potabilidad): Target que establece si el agua es segura para el consumo humano (1 = Potable) o no (0 = No potable).\n",
        "\n",
        "\n",
        "\n",
        "\n",
        "\n",
        "\n"
      ],
      "metadata": {
        "id": "xZl6bh2w7IB5"
      }
    },
    {
      "cell_type": "markdown",
      "source": [
        "# **LIBRERIAS Y SUBA DE ARCHIVO**"
      ],
      "metadata": {
        "id": "kb-p9B_06TXe"
      }
    },
    {
      "cell_type": "code",
      "execution_count": null,
      "metadata": {
        "id": "BCBB2kv4J97L"
      },
      "outputs": [],
      "source": [
        "import numpy as np\n",
        "import pandas as pd\n",
        "import matplotlib as mlt\n",
        "import matplotlib.pyplot as plt\n",
        "%matplotlib inline\n",
        "import seaborn as sns"
      ]
    },
    {
      "cell_type": "code",
      "source": [
        "from sklearn.model_selection import train_test_split\n",
        "from sklearn.preprocessing import StandardScaler\n",
        "from sklearn.linear_model import LogisticRegression\n",
        "from sklearn.metrics import accuracy_score, confusion_matrix, classification_report, recall_score, fbeta_score\n",
        "from sklearn.naive_bayes import GaussianNB\n",
        "from sklearn.tree import DecisionTreeClassifier\n",
        "from sklearn.ensemble import AdaBoostClassifier\n",
        "from sklearn.metrics import make_scorer\n",
        "from sklearn.model_selection import GridSearchCV"
      ],
      "metadata": {
        "id": "eNR8aJBlmHCl"
      },
      "execution_count": null,
      "outputs": []
    },
    {
      "cell_type": "code",
      "source": [
        "#Suba del archivo\n",
        "\n",
        "from google.colab import files\n",
        "import io\n",
        "\n",
        "file = files.upload()"
      ],
      "metadata": {
        "colab": {
          "resources": {
            "http://localhost:8080/nbextensions/google.colab/files.js": {
              "data": "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",
              "ok": true,
              "headers": [
                [
                  "content-type",
                  "application/javascript"
                ]
              ],
              "status": 200,
              "status_text": ""
            }
          },
          "base_uri": "https://localhost:8080/",
          "height": 73
        },
        "id": "3p4HUCK5KGNC",
        "outputId": "b984951c-d215-4ac0-8ae9-72900ff4f20d"
      },
      "execution_count": null,
      "outputs": [
        {
          "output_type": "display_data",
          "data": {
            "text/plain": [
              "<IPython.core.display.HTML object>"
            ],
            "text/html": [
              "\n",
              "     <input type=\"file\" id=\"files-5350c4d9-8b5b-4633-8daf-fbdc6b17cd6e\" name=\"files[]\" multiple disabled\n",
              "        style=\"border:none\" />\n",
              "     <output id=\"result-5350c4d9-8b5b-4633-8daf-fbdc6b17cd6e\">\n",
              "      Upload widget is only available when the cell has been executed in the\n",
              "      current browser session. Please rerun this cell to enable.\n",
              "      </output>\n",
              "      <script src=\"/nbextensions/google.colab/files.js\"></script> "
            ]
          },
          "metadata": {}
        },
        {
          "output_type": "stream",
          "name": "stdout",
          "text": [
            "Saving water_potability.csv to water_potability.csv\n"
          ]
        }
      ]
    },
    {
      "cell_type": "code",
      "source": [
        "df_water = pd.read_csv(io.BytesIO(file[\"water_potability.csv\"]))\n",
        "\n"
      ],
      "metadata": {
        "id": "ThuGGu9rKdX_"
      },
      "execution_count": null,
      "outputs": []
    },
    {
      "cell_type": "markdown",
      "source": [
        "# **PREPROCESAMIENTO DE DATOS**"
      ],
      "metadata": {
        "id": "vYstKxXA6F20"
      }
    },
    {
      "cell_type": "code",
      "source": [
        "df_water.info()"
      ],
      "metadata": {
        "id": "Hf3NPDEF6kMD",
        "colab": {
          "base_uri": "https://localhost:8080/"
        },
        "outputId": "a8881227-58fb-4535-e759-a3fd00ab6028"
      },
      "execution_count": null,
      "outputs": [
        {
          "output_type": "stream",
          "name": "stdout",
          "text": [
            "<class 'pandas.core.frame.DataFrame'>\n",
            "RangeIndex: 3276 entries, 0 to 3275\n",
            "Data columns (total 10 columns):\n",
            " #   Column           Non-Null Count  Dtype  \n",
            "---  ------           --------------  -----  \n",
            " 0   ph               2785 non-null   float64\n",
            " 1   Hardness         3276 non-null   float64\n",
            " 2   Solids           3276 non-null   float64\n",
            " 3   Chloramines      3276 non-null   float64\n",
            " 4   Sulfate          2495 non-null   float64\n",
            " 5   Conductivity     3276 non-null   float64\n",
            " 6   Organic_carbon   3276 non-null   float64\n",
            " 7   Trihalomethanes  3114 non-null   float64\n",
            " 8   Turbidity        3276 non-null   float64\n",
            " 9   Potability       3276 non-null   int64  \n",
            "dtypes: float64(9), int64(1)\n",
            "memory usage: 256.1 KB\n"
          ]
        }
      ]
    },
    {
      "cell_type": "code",
      "source": [
        "#Observamos la proporcion de los datos del target\n",
        "df_water[\"Potability\"].value_counts(True)\n",
        "#df_water[\"Potability\"].value_counts()"
      ],
      "metadata": {
        "colab": {
          "base_uri": "https://localhost:8080/"
        },
        "id": "hwxHa906PNx5",
        "outputId": "f00760a3-5818-485b-9444-b9cfe6033844"
      },
      "execution_count": null,
      "outputs": [
        {
          "output_type": "execute_result",
          "data": {
            "text/plain": [
              "0    0.60989\n",
              "1    0.39011\n",
              "Name: Potability, dtype: float64"
            ]
          },
          "metadata": {},
          "execution_count": 7
        }
      ]
    },
    {
      "cell_type": "code",
      "source": [
        "df_water.head()"
      ],
      "metadata": {
        "colab": {
          "base_uri": "https://localhost:8080/",
          "height": 206
        },
        "id": "xUfwSDnuWThy",
        "outputId": "df3ed63a-df44-4618-87a7-c84a4d09d40a"
      },
      "execution_count": null,
      "outputs": [
        {
          "output_type": "execute_result",
          "data": {
            "text/plain": [
              "         ph    Hardness        Solids  Chloramines     Sulfate  Conductivity  \\\n",
              "0       NaN  204.890455  20791.318981     7.300212  368.516441    564.308654   \n",
              "1  3.716080  129.422921  18630.057858     6.635246         NaN    592.885359   \n",
              "2  8.099124  224.236259  19909.541732     9.275884         NaN    418.606213   \n",
              "3  8.316766  214.373394  22018.417441     8.059332  356.886136    363.266516   \n",
              "4  9.092223  181.101509  17978.986339     6.546600  310.135738    398.410813   \n",
              "\n",
              "   Organic_carbon  Trihalomethanes  Turbidity  Potability  \n",
              "0       10.379783        86.990970   2.963135           0  \n",
              "1       15.180013        56.329076   4.500656           0  \n",
              "2       16.868637        66.420093   3.055934           0  \n",
              "3       18.436524       100.341674   4.628771           0  \n",
              "4       11.558279        31.997993   4.075075           0  "
            ],
            "text/html": [
              "\n",
              "  <div id=\"df-e22baffa-aace-4ddf-a4dc-0a0e74790e2f\">\n",
              "    <div class=\"colab-df-container\">\n",
              "      <div>\n",
              "<style scoped>\n",
              "    .dataframe tbody tr th:only-of-type {\n",
              "        vertical-align: middle;\n",
              "    }\n",
              "\n",
              "    .dataframe tbody tr th {\n",
              "        vertical-align: top;\n",
              "    }\n",
              "\n",
              "    .dataframe thead th {\n",
              "        text-align: right;\n",
              "    }\n",
              "</style>\n",
              "<table border=\"1\" class=\"dataframe\">\n",
              "  <thead>\n",
              "    <tr style=\"text-align: right;\">\n",
              "      <th></th>\n",
              "      <th>ph</th>\n",
              "      <th>Hardness</th>\n",
              "      <th>Solids</th>\n",
              "      <th>Chloramines</th>\n",
              "      <th>Sulfate</th>\n",
              "      <th>Conductivity</th>\n",
              "      <th>Organic_carbon</th>\n",
              "      <th>Trihalomethanes</th>\n",
              "      <th>Turbidity</th>\n",
              "      <th>Potability</th>\n",
              "    </tr>\n",
              "  </thead>\n",
              "  <tbody>\n",
              "    <tr>\n",
              "      <th>0</th>\n",
              "      <td>NaN</td>\n",
              "      <td>204.890455</td>\n",
              "      <td>20791.318981</td>\n",
              "      <td>7.300212</td>\n",
              "      <td>368.516441</td>\n",
              "      <td>564.308654</td>\n",
              "      <td>10.379783</td>\n",
              "      <td>86.990970</td>\n",
              "      <td>2.963135</td>\n",
              "      <td>0</td>\n",
              "    </tr>\n",
              "    <tr>\n",
              "      <th>1</th>\n",
              "      <td>3.716080</td>\n",
              "      <td>129.422921</td>\n",
              "      <td>18630.057858</td>\n",
              "      <td>6.635246</td>\n",
              "      <td>NaN</td>\n",
              "      <td>592.885359</td>\n",
              "      <td>15.180013</td>\n",
              "      <td>56.329076</td>\n",
              "      <td>4.500656</td>\n",
              "      <td>0</td>\n",
              "    </tr>\n",
              "    <tr>\n",
              "      <th>2</th>\n",
              "      <td>8.099124</td>\n",
              "      <td>224.236259</td>\n",
              "      <td>19909.541732</td>\n",
              "      <td>9.275884</td>\n",
              "      <td>NaN</td>\n",
              "      <td>418.606213</td>\n",
              "      <td>16.868637</td>\n",
              "      <td>66.420093</td>\n",
              "      <td>3.055934</td>\n",
              "      <td>0</td>\n",
              "    </tr>\n",
              "    <tr>\n",
              "      <th>3</th>\n",
              "      <td>8.316766</td>\n",
              "      <td>214.373394</td>\n",
              "      <td>22018.417441</td>\n",
              "      <td>8.059332</td>\n",
              "      <td>356.886136</td>\n",
              "      <td>363.266516</td>\n",
              "      <td>18.436524</td>\n",
              "      <td>100.341674</td>\n",
              "      <td>4.628771</td>\n",
              "      <td>0</td>\n",
              "    </tr>\n",
              "    <tr>\n",
              "      <th>4</th>\n",
              "      <td>9.092223</td>\n",
              "      <td>181.101509</td>\n",
              "      <td>17978.986339</td>\n",
              "      <td>6.546600</td>\n",
              "      <td>310.135738</td>\n",
              "      <td>398.410813</td>\n",
              "      <td>11.558279</td>\n",
              "      <td>31.997993</td>\n",
              "      <td>4.075075</td>\n",
              "      <td>0</td>\n",
              "    </tr>\n",
              "  </tbody>\n",
              "</table>\n",
              "</div>\n",
              "      <button class=\"colab-df-convert\" onclick=\"convertToInteractive('df-e22baffa-aace-4ddf-a4dc-0a0e74790e2f')\"\n",
              "              title=\"Convert this dataframe to an interactive table.\"\n",
              "              style=\"display:none;\">\n",
              "        \n",
              "  <svg xmlns=\"http://www.w3.org/2000/svg\" height=\"24px\"viewBox=\"0 0 24 24\"\n",
              "       width=\"24px\">\n",
              "    <path d=\"M0 0h24v24H0V0z\" fill=\"none\"/>\n",
              "    <path d=\"M18.56 5.44l.94 2.06.94-2.06 2.06-.94-2.06-.94-.94-2.06-.94 2.06-2.06.94zm-11 1L8.5 8.5l.94-2.06 2.06-.94-2.06-.94L8.5 2.5l-.94 2.06-2.06.94zm10 10l.94 2.06.94-2.06 2.06-.94-2.06-.94-.94-2.06-.94 2.06-2.06.94z\"/><path d=\"M17.41 7.96l-1.37-1.37c-.4-.4-.92-.59-1.43-.59-.52 0-1.04.2-1.43.59L10.3 9.45l-7.72 7.72c-.78.78-.78 2.05 0 2.83L4 21.41c.39.39.9.59 1.41.59.51 0 1.02-.2 1.41-.59l7.78-7.78 2.81-2.81c.8-.78.8-2.07 0-2.86zM5.41 20L4 18.59l7.72-7.72 1.47 1.35L5.41 20z\"/>\n",
              "  </svg>\n",
              "      </button>\n",
              "      \n",
              "  <style>\n",
              "    .colab-df-container {\n",
              "      display:flex;\n",
              "      flex-wrap:wrap;\n",
              "      gap: 12px;\n",
              "    }\n",
              "\n",
              "    .colab-df-convert {\n",
              "      background-color: #E8F0FE;\n",
              "      border: none;\n",
              "      border-radius: 50%;\n",
              "      cursor: pointer;\n",
              "      display: none;\n",
              "      fill: #1967D2;\n",
              "      height: 32px;\n",
              "      padding: 0 0 0 0;\n",
              "      width: 32px;\n",
              "    }\n",
              "\n",
              "    .colab-df-convert:hover {\n",
              "      background-color: #E2EBFA;\n",
              "      box-shadow: 0px 1px 2px rgba(60, 64, 67, 0.3), 0px 1px 3px 1px rgba(60, 64, 67, 0.15);\n",
              "      fill: #174EA6;\n",
              "    }\n",
              "\n",
              "    [theme=dark] .colab-df-convert {\n",
              "      background-color: #3B4455;\n",
              "      fill: #D2E3FC;\n",
              "    }\n",
              "\n",
              "    [theme=dark] .colab-df-convert:hover {\n",
              "      background-color: #434B5C;\n",
              "      box-shadow: 0px 1px 3px 1px rgba(0, 0, 0, 0.15);\n",
              "      filter: drop-shadow(0px 1px 2px rgba(0, 0, 0, 0.3));\n",
              "      fill: #FFFFFF;\n",
              "    }\n",
              "  </style>\n",
              "\n",
              "      <script>\n",
              "        const buttonEl =\n",
              "          document.querySelector('#df-e22baffa-aace-4ddf-a4dc-0a0e74790e2f button.colab-df-convert');\n",
              "        buttonEl.style.display =\n",
              "          google.colab.kernel.accessAllowed ? 'block' : 'none';\n",
              "\n",
              "        async function convertToInteractive(key) {\n",
              "          const element = document.querySelector('#df-e22baffa-aace-4ddf-a4dc-0a0e74790e2f');\n",
              "          const dataTable =\n",
              "            await google.colab.kernel.invokeFunction('convertToInteractive',\n",
              "                                                     [key], {});\n",
              "          if (!dataTable) return;\n",
              "\n",
              "          const docLinkHtml = 'Like what you see? Visit the ' +\n",
              "            '<a target=\"_blank\" href=https://colab.research.google.com/notebooks/data_table.ipynb>data table notebook</a>'\n",
              "            + ' to learn more about interactive tables.';\n",
              "          element.innerHTML = '';\n",
              "          dataTable['output_type'] = 'display_data';\n",
              "          await google.colab.output.renderOutput(dataTable, element);\n",
              "          const docLink = document.createElement('div');\n",
              "          docLink.innerHTML = docLinkHtml;\n",
              "          element.appendChild(docLink);\n",
              "        }\n",
              "      </script>\n",
              "    </div>\n",
              "  </div>\n",
              "  "
            ]
          },
          "metadata": {},
          "execution_count": 8
        }
      ]
    },
    {
      "cell_type": "code",
      "source": [
        "#Contamos los na que existen en nuestro DF\n",
        "\n",
        "df_water.isna().sum()"
      ],
      "metadata": {
        "id": "-B0KBBaxRRw8",
        "colab": {
          "base_uri": "https://localhost:8080/"
        },
        "outputId": "afa9562e-96be-4d68-bd04-49b4f1be63d1"
      },
      "execution_count": null,
      "outputs": [
        {
          "output_type": "execute_result",
          "data": {
            "text/plain": [
              "ph                 491\n",
              "Hardness             0\n",
              "Solids               0\n",
              "Chloramines          0\n",
              "Sulfate            781\n",
              "Conductivity         0\n",
              "Organic_carbon       0\n",
              "Trihalomethanes    162\n",
              "Turbidity            0\n",
              "Potability           0\n",
              "dtype: int64"
            ]
          },
          "metadata": {},
          "execution_count": 9
        }
      ]
    },
    {
      "cell_type": "code",
      "source": [
        "print('% de registros con al menos un valor nulo:     ', np.round(100 * df_water.isna().any(axis=1).sum() / df_water.shape[0], 1))\n",
        "#Observamos que el nivel de % de registros con datos nulos es bastante elevado."
      ],
      "metadata": {
        "id": "cpXNVWYtLq_I",
        "colab": {
          "base_uri": "https://localhost:8080/"
        },
        "outputId": "db525af3-89e5-46a6-d13d-b3d9cbb10fbc"
      },
      "execution_count": null,
      "outputs": [
        {
          "output_type": "stream",
          "name": "stdout",
          "text": [
            "% de registros con al menos un valor nulo:      38.6\n"
          ]
        }
      ]
    },
    {
      "cell_type": "code",
      "source": [
        "df_water.describe()"
      ],
      "metadata": {
        "colab": {
          "base_uri": "https://localhost:8080/",
          "height": 300
        },
        "id": "pjhyjIYAGe0U",
        "outputId": "5114abd8-985a-4ab7-da90-1026a66fdd36"
      },
      "execution_count": null,
      "outputs": [
        {
          "output_type": "execute_result",
          "data": {
            "text/plain": [
              "                ph     Hardness        Solids  Chloramines      Sulfate  \\\n",
              "count  2785.000000  3276.000000   3276.000000  3276.000000  2495.000000   \n",
              "mean      7.080795   196.369496  22014.092526     7.122277   333.775777   \n",
              "std       1.594320    32.879761   8768.570828     1.583085    41.416840   \n",
              "min       0.000000    47.432000    320.942611     0.352000   129.000000   \n",
              "25%       6.093092   176.850538  15666.690297     6.127421   307.699498   \n",
              "50%       7.036752   196.967627  20927.833607     7.130299   333.073546   \n",
              "75%       8.062066   216.667456  27332.762127     8.114887   359.950170   \n",
              "max      14.000000   323.124000  61227.196008    13.127000   481.030642   \n",
              "\n",
              "       Conductivity  Organic_carbon  Trihalomethanes    Turbidity   Potability  \n",
              "count   3276.000000     3276.000000      3114.000000  3276.000000  3276.000000  \n",
              "mean     426.205111       14.284970        66.396293     3.966786     0.390110  \n",
              "std       80.824064        3.308162        16.175008     0.780382     0.487849  \n",
              "min      181.483754        2.200000         0.738000     1.450000     0.000000  \n",
              "25%      365.734414       12.065801        55.844536     3.439711     0.000000  \n",
              "50%      421.884968       14.218338        66.622485     3.955028     0.000000  \n",
              "75%      481.792304       16.557652        77.337473     4.500320     1.000000  \n",
              "max      753.342620       28.300000       124.000000     6.739000     1.000000  "
            ],
            "text/html": [
              "\n",
              "  <div id=\"df-1aee802e-b107-4505-8cba-289ca69e7f79\">\n",
              "    <div class=\"colab-df-container\">\n",
              "      <div>\n",
              "<style scoped>\n",
              "    .dataframe tbody tr th:only-of-type {\n",
              "        vertical-align: middle;\n",
              "    }\n",
              "\n",
              "    .dataframe tbody tr th {\n",
              "        vertical-align: top;\n",
              "    }\n",
              "\n",
              "    .dataframe thead th {\n",
              "        text-align: right;\n",
              "    }\n",
              "</style>\n",
              "<table border=\"1\" class=\"dataframe\">\n",
              "  <thead>\n",
              "    <tr style=\"text-align: right;\">\n",
              "      <th></th>\n",
              "      <th>ph</th>\n",
              "      <th>Hardness</th>\n",
              "      <th>Solids</th>\n",
              "      <th>Chloramines</th>\n",
              "      <th>Sulfate</th>\n",
              "      <th>Conductivity</th>\n",
              "      <th>Organic_carbon</th>\n",
              "      <th>Trihalomethanes</th>\n",
              "      <th>Turbidity</th>\n",
              "      <th>Potability</th>\n",
              "    </tr>\n",
              "  </thead>\n",
              "  <tbody>\n",
              "    <tr>\n",
              "      <th>count</th>\n",
              "      <td>2785.000000</td>\n",
              "      <td>3276.000000</td>\n",
              "      <td>3276.000000</td>\n",
              "      <td>3276.000000</td>\n",
              "      <td>2495.000000</td>\n",
              "      <td>3276.000000</td>\n",
              "      <td>3276.000000</td>\n",
              "      <td>3114.000000</td>\n",
              "      <td>3276.000000</td>\n",
              "      <td>3276.000000</td>\n",
              "    </tr>\n",
              "    <tr>\n",
              "      <th>mean</th>\n",
              "      <td>7.080795</td>\n",
              "      <td>196.369496</td>\n",
              "      <td>22014.092526</td>\n",
              "      <td>7.122277</td>\n",
              "      <td>333.775777</td>\n",
              "      <td>426.205111</td>\n",
              "      <td>14.284970</td>\n",
              "      <td>66.396293</td>\n",
              "      <td>3.966786</td>\n",
              "      <td>0.390110</td>\n",
              "    </tr>\n",
              "    <tr>\n",
              "      <th>std</th>\n",
              "      <td>1.594320</td>\n",
              "      <td>32.879761</td>\n",
              "      <td>8768.570828</td>\n",
              "      <td>1.583085</td>\n",
              "      <td>41.416840</td>\n",
              "      <td>80.824064</td>\n",
              "      <td>3.308162</td>\n",
              "      <td>16.175008</td>\n",
              "      <td>0.780382</td>\n",
              "      <td>0.487849</td>\n",
              "    </tr>\n",
              "    <tr>\n",
              "      <th>min</th>\n",
              "      <td>0.000000</td>\n",
              "      <td>47.432000</td>\n",
              "      <td>320.942611</td>\n",
              "      <td>0.352000</td>\n",
              "      <td>129.000000</td>\n",
              "      <td>181.483754</td>\n",
              "      <td>2.200000</td>\n",
              "      <td>0.738000</td>\n",
              "      <td>1.450000</td>\n",
              "      <td>0.000000</td>\n",
              "    </tr>\n",
              "    <tr>\n",
              "      <th>25%</th>\n",
              "      <td>6.093092</td>\n",
              "      <td>176.850538</td>\n",
              "      <td>15666.690297</td>\n",
              "      <td>6.127421</td>\n",
              "      <td>307.699498</td>\n",
              "      <td>365.734414</td>\n",
              "      <td>12.065801</td>\n",
              "      <td>55.844536</td>\n",
              "      <td>3.439711</td>\n",
              "      <td>0.000000</td>\n",
              "    </tr>\n",
              "    <tr>\n",
              "      <th>50%</th>\n",
              "      <td>7.036752</td>\n",
              "      <td>196.967627</td>\n",
              "      <td>20927.833607</td>\n",
              "      <td>7.130299</td>\n",
              "      <td>333.073546</td>\n",
              "      <td>421.884968</td>\n",
              "      <td>14.218338</td>\n",
              "      <td>66.622485</td>\n",
              "      <td>3.955028</td>\n",
              "      <td>0.000000</td>\n",
              "    </tr>\n",
              "    <tr>\n",
              "      <th>75%</th>\n",
              "      <td>8.062066</td>\n",
              "      <td>216.667456</td>\n",
              "      <td>27332.762127</td>\n",
              "      <td>8.114887</td>\n",
              "      <td>359.950170</td>\n",
              "      <td>481.792304</td>\n",
              "      <td>16.557652</td>\n",
              "      <td>77.337473</td>\n",
              "      <td>4.500320</td>\n",
              "      <td>1.000000</td>\n",
              "    </tr>\n",
              "    <tr>\n",
              "      <th>max</th>\n",
              "      <td>14.000000</td>\n",
              "      <td>323.124000</td>\n",
              "      <td>61227.196008</td>\n",
              "      <td>13.127000</td>\n",
              "      <td>481.030642</td>\n",
              "      <td>753.342620</td>\n",
              "      <td>28.300000</td>\n",
              "      <td>124.000000</td>\n",
              "      <td>6.739000</td>\n",
              "      <td>1.000000</td>\n",
              "    </tr>\n",
              "  </tbody>\n",
              "</table>\n",
              "</div>\n",
              "      <button class=\"colab-df-convert\" onclick=\"convertToInteractive('df-1aee802e-b107-4505-8cba-289ca69e7f79')\"\n",
              "              title=\"Convert this dataframe to an interactive table.\"\n",
              "              style=\"display:none;\">\n",
              "        \n",
              "  <svg xmlns=\"http://www.w3.org/2000/svg\" height=\"24px\"viewBox=\"0 0 24 24\"\n",
              "       width=\"24px\">\n",
              "    <path d=\"M0 0h24v24H0V0z\" fill=\"none\"/>\n",
              "    <path d=\"M18.56 5.44l.94 2.06.94-2.06 2.06-.94-2.06-.94-.94-2.06-.94 2.06-2.06.94zm-11 1L8.5 8.5l.94-2.06 2.06-.94-2.06-.94L8.5 2.5l-.94 2.06-2.06.94zm10 10l.94 2.06.94-2.06 2.06-.94-2.06-.94-.94-2.06-.94 2.06-2.06.94z\"/><path d=\"M17.41 7.96l-1.37-1.37c-.4-.4-.92-.59-1.43-.59-.52 0-1.04.2-1.43.59L10.3 9.45l-7.72 7.72c-.78.78-.78 2.05 0 2.83L4 21.41c.39.39.9.59 1.41.59.51 0 1.02-.2 1.41-.59l7.78-7.78 2.81-2.81c.8-.78.8-2.07 0-2.86zM5.41 20L4 18.59l7.72-7.72 1.47 1.35L5.41 20z\"/>\n",
              "  </svg>\n",
              "      </button>\n",
              "      \n",
              "  <style>\n",
              "    .colab-df-container {\n",
              "      display:flex;\n",
              "      flex-wrap:wrap;\n",
              "      gap: 12px;\n",
              "    }\n",
              "\n",
              "    .colab-df-convert {\n",
              "      background-color: #E8F0FE;\n",
              "      border: none;\n",
              "      border-radius: 50%;\n",
              "      cursor: pointer;\n",
              "      display: none;\n",
              "      fill: #1967D2;\n",
              "      height: 32px;\n",
              "      padding: 0 0 0 0;\n",
              "      width: 32px;\n",
              "    }\n",
              "\n",
              "    .colab-df-convert:hover {\n",
              "      background-color: #E2EBFA;\n",
              "      box-shadow: 0px 1px 2px rgba(60, 64, 67, 0.3), 0px 1px 3px 1px rgba(60, 64, 67, 0.15);\n",
              "      fill: #174EA6;\n",
              "    }\n",
              "\n",
              "    [theme=dark] .colab-df-convert {\n",
              "      background-color: #3B4455;\n",
              "      fill: #D2E3FC;\n",
              "    }\n",
              "\n",
              "    [theme=dark] .colab-df-convert:hover {\n",
              "      background-color: #434B5C;\n",
              "      box-shadow: 0px 1px 3px 1px rgba(0, 0, 0, 0.15);\n",
              "      filter: drop-shadow(0px 1px 2px rgba(0, 0, 0, 0.3));\n",
              "      fill: #FFFFFF;\n",
              "    }\n",
              "  </style>\n",
              "\n",
              "      <script>\n",
              "        const buttonEl =\n",
              "          document.querySelector('#df-1aee802e-b107-4505-8cba-289ca69e7f79 button.colab-df-convert');\n",
              "        buttonEl.style.display =\n",
              "          google.colab.kernel.accessAllowed ? 'block' : 'none';\n",
              "\n",
              "        async function convertToInteractive(key) {\n",
              "          const element = document.querySelector('#df-1aee802e-b107-4505-8cba-289ca69e7f79');\n",
              "          const dataTable =\n",
              "            await google.colab.kernel.invokeFunction('convertToInteractive',\n",
              "                                                     [key], {});\n",
              "          if (!dataTable) return;\n",
              "\n",
              "          const docLinkHtml = 'Like what you see? Visit the ' +\n",
              "            '<a target=\"_blank\" href=https://colab.research.google.com/notebooks/data_table.ipynb>data table notebook</a>'\n",
              "            + ' to learn more about interactive tables.';\n",
              "          element.innerHTML = '';\n",
              "          dataTable['output_type'] = 'display_data';\n",
              "          await google.colab.output.renderOutput(dataTable, element);\n",
              "          const docLink = document.createElement('div');\n",
              "          docLink.innerHTML = docLinkHtml;\n",
              "          element.appendChild(docLink);\n",
              "        }\n",
              "      </script>\n",
              "    </div>\n",
              "  </div>\n",
              "  "
            ]
          },
          "metadata": {},
          "execution_count": 11
        }
      ]
    },
    {
      "cell_type": "code",
      "source": [
        "# Creamos un grafico para cada feature discriminando por el valor del target con un loop\n",
        "fig, axes = plt.subplots(nrows=3, ncols=3, figsize=(18,12))\n",
        "fig.suptitle('Histogramas normalizados')\n",
        "for c, ax in zip(df_water.columns[:-1], axes.flatten()):\n",
        "    sns.histplot(data = df_water.loc[df_water['Potability']==0, c].dropna(), stat = 'count', ax = ax, kde = False )\n",
        "    sns.histplot(data = df_water.loc[df_water['Potability']==1, c].dropna(), stat = 'count', kde=False, ax=ax, color = 'orange')\n",
        "    ax.legend(['Potability = 0', 'Potability = 1'])\n",
        "# Importante: el grafico utiliza el metodo \"density\" que permite comparar las clases desbalanceadas (ver que ocurre con otro metodos)"
      ],
      "metadata": {
        "colab": {
          "base_uri": "https://localhost:8080/",
          "height": 802
        },
        "id": "NAFhuoE1I4Dl",
        "outputId": "b7fe7940-36ed-43de-ef69-102e1ea6114a"
      },
      "execution_count": null,
      "outputs": [
        {
          "output_type": "display_data",
          "data": {
            "text/plain": [
              "<Figure size 1296x864 with 9 Axes>"
            ],
            "image/png": "[encoded data removed]"
          },
          "metadata": {
            "needs_background": "light"
          }
        }
      ]
    },
    {
      "cell_type": "code",
      "source": [
        "plt.figure(figsize=(12,12))\n",
        "sns.heatmap(df_water.corr().round(2), annot=True, vmin=-1, vmax=1, cmap='bwr')"
      ],
      "metadata": {
        "colab": {
          "base_uri": "https://localhost:8080/",
          "height": 794
        },
        "id": "jd1gKXLfYGA8",
        "outputId": "0b07ea17-a3de-47ec-8f5e-70a6f30776ea"
      },
      "execution_count": null,
      "outputs": [
        {
          "output_type": "execute_result",
          "data": {
            "text/plain": [
              "<matplotlib.axes._subplots.AxesSubplot at 0x7fec4c198b10>"
            ]
          },
          "metadata": {},
          "execution_count": 13
        },
        {
          "output_type": "display_data",
          "data": {
            "text/plain": [
              "<Figure size 864x864 with 2 Axes>"
            ],
            "image/png": "[encoded data removed]"
          },
          "metadata": {
            "needs_background": "light"
          }
        }
      ]
    },
    {
      "cell_type": "markdown",
      "source": [
        "# **IMPORTANTE**\n",
        "\n",
        "Analizando detenidamente los datos extraidos, resulta curioso que las variables posean una independencia casi absoluta entre sí y con el target, también resulta curioso que la distribución de los datos discriminados por el target (potables - no potables) se solapan. Esto es importante por que nos indica que las muestras no son fiables, no son contundentes para determinar si una muestra es o no potable, por ende se puede presumir que los datos son falsos o inexactos y que no se puede generar un modelo fiable para ser aplicable. Veamos si esto es correcto realizando distintos modelos de clasificación.\n"
      ],
      "metadata": {
        "id": "jxboARWeaAq8"
      }
    },
    {
      "cell_type": "code",
      "source": [
        "#Es dificil decidir acerca de los NA que presenta el data set. Como vimos representan un gran % del mismo.\n",
        "#Eliminarlos no parece lógico debido a la gran cantidad que tenemos.\n",
        "#Sacar el promedio puede desvirtuar la muestra, pues su categorización depende del valor que pueda adoptar los NA.\n",
        "#Por lo que, de una forma rebuscada, sacaremos los promedios de la columna ph tanto para el caso en que el target sea 0 o 1\n",
        "#luego se reemplazará los NA con los promedios según el parametro potability sea 0 o 1.\n",
        "import matplotlib.pyplot as plt\n",
        "\n",
        "ph_1 = df_water[df_water.Potability == 0]\n",
        "print(\"Promedio de Ph cuando el agua NO es potable: \", ph_1.ph.mean())\n",
        "\n",
        "ph_2 = df_water[df_water.Potability != 0]\n",
        "print(\"Promedio de Ph cuando el agua SI es potable: \", ph_2.ph.mean())\n",
        "\n"
      ],
      "metadata": {
        "colab": {
          "base_uri": "https://localhost:8080/"
        },
        "id": "9FyWLY7pDlD7",
        "outputId": "51fe576a-f189-40bd-9079-2dba2f294b2b"
      },
      "execution_count": null,
      "outputs": [
        {
          "output_type": "stream",
          "name": "stdout",
          "text": [
            "Promedio de Ph cuando el agua NO es potable:  7.085378435983544\n",
            "Promedio de Ph cuando el agua SI es potable:  7.0737832953812\n"
          ]
        }
      ]
    },
    {
      "cell_type": "code",
      "source": [
        "plt.hist(x = ph_1[\"ph\"])\n",
        "plt.hist(x = ph_2[\"ph\"])"
      ],
      "metadata": {
        "colab": {
          "base_uri": "https://localhost:8080/",
          "height": 352
        },
        "id": "X9n3oTN1AFos",
        "outputId": "668c564c-c94f-46d6-bf5c-026239437eda"
      },
      "execution_count": null,
      "outputs": [
        {
          "output_type": "execute_result",
          "data": {
            "text/plain": [
              "(array([  2.,   3.,  19., 103., 292., 423., 186.,  63.,   8.,   2.]),\n",
              " array([ 0.22749905,  1.52228932,  2.81707959,  4.11186985,  5.40666012,\n",
              "         6.70145039,  7.99624065,  9.29103092, 10.58582119, 11.88061146,\n",
              "        13.17540172]),\n",
              " <a list of 10 Patch objects>)"
            ]
          },
          "metadata": {},
          "execution_count": 15
        },
        {
          "output_type": "display_data",
          "data": {
            "text/plain": [
              "<Figure size 432x288 with 1 Axes>"
            ],
            "image/png": "[encoded data removed]"
          },
          "metadata": {
            "needs_background": "light"
          }
        }
      ]
    },
    {
      "cell_type": "code",
      "source": [
        "#Observamos que tanto en las muestras con potabilidad 1 como con potabilidad 0 el promedio del ph es casi igual\n",
        "#por lo que reemplazaremos los NaN de ph por el promedio general de la columna.\n",
        "\n",
        "df_water[\"ph\"].fillna(value = df_water.ph.mean(), inplace = True)"
      ],
      "metadata": {
        "id": "mFVJ-P-PzIOH"
      },
      "execution_count": null,
      "outputs": []
    },
    {
      "cell_type": "code",
      "source": [
        "#Procedemos a repetir los pasos con las demas variables que poseen NaN (sulfate)\n",
        "\n",
        "ph_1 = df_water[df_water.Potability == 0]\n",
        "print(\"Promedio de Sulfato cuando el agua NO es potable: \", ph_1.Sulfate.mean())\n",
        "\n",
        "ph_2 = df_water[df_water.Potability != 0]\n",
        "print(\"Promedio de Sulfato cuando el agua SI es potable: \", ph_2.Sulfate.mean())\n",
        "\n",
        "plt.hist(x = ph_1[\"Sulfate\"])\n",
        "plt.hist(x = ph_2[\"Sulfate\"])"
      ],
      "metadata": {
        "colab": {
          "base_uri": "https://localhost:8080/",
          "height": 387
        },
        "id": "K1PJFFjaGa_v",
        "outputId": "57f419de-314a-4bba-af38-2a2b33ddf775"
      },
      "execution_count": null,
      "outputs": [
        {
          "output_type": "stream",
          "name": "stdout",
          "text": [
            "Promedio de Sulfato cuando el agua NO es potable:  334.5642895786881\n",
            "Promedio de Sulfato cuando el agua SI es potable:  332.5669902336656\n"
          ]
        },
        {
          "output_type": "execute_result",
          "data": {
            "text/plain": [
              "(array([  1.,   5.,  17.,  61., 187., 291., 245., 125.,  46.,   7.]),\n",
              " array([129.        , 164.20306423, 199.40612846, 234.60919269,\n",
              "        269.81225692, 305.01532115, 340.21838538, 375.42144961,\n",
              "        410.62451384, 445.82757808, 481.03064231]),\n",
              " <a list of 10 Patch objects>)"
            ]
          },
          "metadata": {},
          "execution_count": 17
        },
        {
          "output_type": "display_data",
          "data": {
            "text/plain": [
              "<Figure size 432x288 with 1 Axes>"
            ],
            "image/png": "[encoded data removed]"
          },
          "metadata": {
            "needs_background": "light"
          }
        }
      ]
    },
    {
      "cell_type": "code",
      "source": [
        "df_water[\"Sulfate\"].fillna(value = df_water[\"Sulfate\"].mean(), inplace = True)"
      ],
      "metadata": {
        "id": "wbr1kv55X1l_"
      },
      "execution_count": null,
      "outputs": []
    },
    {
      "cell_type": "code",
      "source": [
        "#Proseguimos con la última variable Trihalomethanes\n",
        "\n",
        "ph_1 = df_water[df_water.Potability == 0]\n",
        "print(\"Promedio de Sulfato cuando el agua NO es potable: \", ph_1.Trihalomethanes.mean())\n",
        "\n",
        "ph_2 = df_water[df_water.Potability != 0]\n",
        "print(\"Promedio de Sulfato cuando el agua SI es potable: \", ph_2.Trihalomethanes.mean())\n",
        "\n",
        "plt.hist(x = ph_1[\"Trihalomethanes\"])\n",
        "plt.hist(x = ph_2[\"Trihalomethanes\"])\n"
      ],
      "metadata": {
        "colab": {
          "base_uri": "https://localhost:8080/",
          "height": 387
        },
        "id": "obq1-IbqYFWA",
        "outputId": "0b55edce-9e2c-4785-f8a6-40af89614652"
      },
      "execution_count": null,
      "outputs": [
        {
          "output_type": "stream",
          "name": "stdout",
          "text": [
            "Promedio de Sulfato cuando el agua NO es potable:  66.30355527306088\n",
            "Promedio de Sulfato cuando el agua SI es potable:  66.53968374070116\n"
          ]
        },
        {
          "output_type": "execute_result",
          "data": {
            "text/plain": [
              "(array([  6.,  16.,  68., 179., 326., 332., 202.,  70.,  18.,   6.]),\n",
              " array([  8.17587638,  19.75828875,  31.34070111,  42.92311347,\n",
              "         54.50552583,  66.08793819,  77.67035055,  89.25276292,\n",
              "        100.83517528, 112.41758764, 124.        ]),\n",
              " <a list of 10 Patch objects>)"
            ]
          },
          "metadata": {},
          "execution_count": 19
        },
        {
          "output_type": "display_data",
          "data": {
            "text/plain": [
              "<Figure size 432x288 with 1 Axes>"
            ],
            "image/png": "[encoded data removed]"
          },
          "metadata": {
            "needs_background": "light"
          }
        }
      ]
    },
    {
      "cell_type": "code",
      "source": [
        "df_water[\"Trihalomethanes\"].fillna(value = df_water[\"Trihalomethanes\"].mean(), inplace = True)"
      ],
      "metadata": {
        "id": "JZ1cmeFzYPH2"
      },
      "execution_count": null,
      "outputs": []
    },
    {
      "cell_type": "code",
      "source": [
        "#Ya no tenemos valores Na\n",
        "\n",
        "df_water.isna().sum()"
      ],
      "metadata": {
        "colab": {
          "base_uri": "https://localhost:8080/"
        },
        "id": "PWDDcSdlZIA_",
        "outputId": "ce97af8f-7c6d-422f-983d-ff084a6e2e41"
      },
      "execution_count": null,
      "outputs": [
        {
          "output_type": "execute_result",
          "data": {
            "text/plain": [
              "ph                 0\n",
              "Hardness           0\n",
              "Solids             0\n",
              "Chloramines        0\n",
              "Sulfate            0\n",
              "Conductivity       0\n",
              "Organic_carbon     0\n",
              "Trihalomethanes    0\n",
              "Turbidity          0\n",
              "Potability         0\n",
              "dtype: int64"
            ]
          },
          "metadata": {},
          "execution_count": 21
        }
      ]
    },
    {
      "cell_type": "code",
      "source": [
        "#Del mapa de color realizado determinamos que la relación entre variables es pobre,\n",
        "#podemos declarar que son independientes unas de otras y que no hay correlación entre sí.\n",
        "#Nos da lugar a implementar el método de Naive Bayes, pero realizaremos de todas formas una regresión logística.\n",
        "\n",
        "#Preparamos los datos en x e y, siendo y la variable target Potability y x el resto.\n",
        "\n",
        "x = df_water.drop(columns = \"Potability\")\n",
        "\n",
        "y = df_water[\"Potability\"]\n",
        "\n",
        "#Separamos los datos de entrenamiento y testeo.\n",
        "\n",
        "x_train, x_test, y_train, y_test = train_test_split(x, y, stratify = y, random_state = 0)\n"
      ],
      "metadata": {
        "id": "WRcUmFY1ZUkH"
      },
      "execution_count": null,
      "outputs": []
    },
    {
      "cell_type": "code",
      "source": [
        "#Escalamos los datos\n",
        "\n",
        "scaler = StandardScaler()\n",
        "X_train_std = pd.DataFrame(scaler.fit_transform(x_train), columns=x_train.columns)\n",
        "X_test_std = scaler.transform(x_test)\n",
        "\n"
      ],
      "metadata": {
        "id": "hvc_aZT9lEEm"
      },
      "execution_count": null,
      "outputs": []
    },
    {
      "cell_type": "markdown",
      "source": [
        "#  **MODELO DE REGRESIÓN LOGÍSTICA**"
      ],
      "metadata": {
        "id": "MwICVApQwXet"
      }
    },
    {
      "cell_type": "code",
      "source": [
        "#Instanciamos el modelo\n",
        "\n",
        "lr = LogisticRegression( penalty= \"l2\",\n",
        "                        class_weight= None)\n",
        "\n",
        "lr.fit(X_train_std, y_train)\n",
        "\n",
        "y_train_pred = lr.predict(X_train_std)"
      ],
      "metadata": {
        "id": "6wRZl-znwjGs"
      },
      "execution_count": null,
      "outputs": []
    },
    {
      "cell_type": "code",
      "source": [
        "# Imprimimos resumen de metricas y la matriz de confusion\n",
        "\n",
        "model_name = 'Reg. Logistica'\n",
        "\n",
        "sns.heatmap(confusion_matrix(y_train, y_train_pred), annot=True, cmap='PuBu', fmt='0.0f', linewidths=0.25, \n",
        "           annot_kws={'size':13} )\n",
        "plt.xlabel('Predichos')\n",
        "plt.ylabel('Reales')\n",
        "\n",
        "print('Accuracy del modelo de ' + model_name + ' :   ', accuracy_score(y_train, y_train_pred).round(3))\n",
        "print('Recall del modelo de ' + model_name + ' :   ', recall_score(y_train, y_train_pred).round(3))\n",
        "\n",
        "print('Rporte del modelo de ' + model_name + ' :   \\n', classification_report(y_train, y_train_pred))"
      ],
      "metadata": {
        "colab": {
          "base_uri": "https://localhost:8080/",
          "height": 487
        },
        "id": "FODkEQ0gxPpI",
        "outputId": "ae2aaa43-e44d-454a-d084-3f547bc837a9"
      },
      "execution_count": null,
      "outputs": [
        {
          "output_type": "stream",
          "name": "stdout",
          "text": [
            "Accuracy del modelo de Reg. Logistica :    0.611\n",
            "Recall del modelo de Reg. Logistica :    0.001\n",
            "Rporte del modelo de Reg. Logistica :   \n",
            "               precision    recall  f1-score   support\n",
            "\n",
            "           0       0.61      1.00      0.76      1499\n",
            "           1       1.00      0.00      0.00       958\n",
            "\n",
            "    accuracy                           0.61      2457\n",
            "   macro avg       0.81      0.50      0.38      2457\n",
            "weighted avg       0.76      0.61      0.46      2457\n",
            "\n"
          ]
        },
        {
          "output_type": "display_data",
          "data": {
            "text/plain": [
              "<Figure size 432x288 with 2 Axes>"
            ],
            "image/png": "[encoded data removed]"
          },
          "metadata": {
            "needs_background": "light"
          }
        }
      ]
    },
    {
      "cell_type": "markdown",
      "source": [
        "# **MODELO NAIVE BAYES**"
      ],
      "metadata": {
        "id": "s5FKEYom55yF"
      }
    },
    {
      "cell_type": "code",
      "source": [
        "#Modelo Naive Bayes\n",
        "\n",
        "gnb = GaussianNB()\n",
        "\n",
        "gnb.fit(x_train, y_train)\n",
        "\n",
        "y_train_pred_gnb = gnb.predict(x_train)"
      ],
      "metadata": {
        "id": "tuYXJVpj0Qfc"
      },
      "execution_count": null,
      "outputs": []
    },
    {
      "cell_type": "code",
      "source": [
        "sns.heatmap(confusion_matrix(y_train, y_train_pred_gnb), annot=True, cmap='PuBu', fmt='0.0f', linewidths=0.25, \n",
        "          annot_kws={'size':13} )\n",
        "plt.xlabel('Predichos')\n",
        "plt.ylabel('Reales')\n",
        "\n",
        "print('Accuracy del modelo de Naibe Bayes:    ', accuracy_score(y_train, y_train_pred_gnb).round(3))\n",
        "print('Recall del modelo de Naibe Bayes:      ', recall_score(y_train, y_train_pred_gnb).round(3))\n",
        "\n",
        "print('Rporte del modelo de ' + model_name + ' :   \\n', classification_report(y_train, y_train_pred_gnb))"
      ],
      "metadata": {
        "id": "oHoHoRas0dTe",
        "outputId": "cac6f46c-e29b-4ba9-eaf6-16ef09e72a28",
        "colab": {
          "base_uri": "https://localhost:8080/",
          "height": 487
        }
      },
      "execution_count": null,
      "outputs": [
        {
          "output_type": "stream",
          "name": "stdout",
          "text": [
            "Accuracy del modelo de Naibe Bayes:     0.637\n",
            "Recall del modelo de Naibe Bayes:       0.245\n",
            "Rporte del modelo de Reg. Logistica :   \n",
            "               precision    recall  f1-score   support\n",
            "\n",
            "           0       0.65      0.89      0.75      1499\n",
            "           1       0.58      0.25      0.35       958\n",
            "\n",
            "    accuracy                           0.64      2457\n",
            "   macro avg       0.61      0.57      0.55      2457\n",
            "weighted avg       0.62      0.64      0.59      2457\n",
            "\n"
          ]
        },
        {
          "output_type": "display_data",
          "data": {
            "text/plain": [
              "<Figure size 432x288 with 2 Axes>"
            ],
            "image/png": "[encoded data removed]"
          },
          "metadata": {
            "needs_background": "light"
          }
        }
      ]
    },
    {
      "cell_type": "code",
      "source": [
        "#Comportamiento en entrenamiento\n",
        "\n",
        "umbral = 0.9\n",
        "probs = gnb.predict_proba(X_train_std)[:,1]\n",
        "y_pred_train_gnb_umbral = probs > umbral"
      ],
      "metadata": {
        "id": "RnCz0XyGf5NN"
      },
      "execution_count": null,
      "outputs": []
    },
    {
      "cell_type": "code",
      "source": [
        "sns.heatmap(confusion_matrix(y_train, y_pred_train_gnb_umbral), annot=True, cmap='PuBu', fmt='0.0f', linewidths=0.25, \n",
        "           annot_kws={'size':13} )\n",
        "plt.xlabel('Predichos')\n",
        "plt.ylabel('Reales')\n",
        "\n",
        "print('Accuracy del modelo de NaiveBayes:    ', accuracy_score(y_train, y_pred_train_gnb_umbral).round(3))\n",
        "print('Recall del modelo de NaiveBayes:    ', recall_score(y_train, y_pred_train_gnb_umbral).round(3))\n",
        "\n",
        "print('Rporte del modelo de ' + model_name + ' :   \\n', classification_report(y_train, y_pred_train_gnb_umbral))"
      ],
      "metadata": {
        "colab": {
          "base_uri": "https://localhost:8080/",
          "height": 611
        },
        "id": "5Q6Hu-tMf_8Y",
        "outputId": "7cbece23-cb2b-4de5-8a9e-5e7697ddaef7"
      },
      "execution_count": null,
      "outputs": [
        {
          "output_type": "stream",
          "name": "stdout",
          "text": [
            "Accuracy del modelo de NaiveBayes:     0.39\n",
            "Recall del modelo de NaiveBayes:     1.0\n",
            "Rporte del modelo de Reg. Logistica :   \n",
            "               precision    recall  f1-score   support\n",
            "\n",
            "           0       0.00      0.00      0.00      1499\n",
            "           1       0.39      1.00      0.56       958\n",
            "\n",
            "    accuracy                           0.39      2457\n",
            "   macro avg       0.19      0.50      0.28      2457\n",
            "weighted avg       0.15      0.39      0.22      2457\n",
            "\n"
          ]
        },
        {
          "output_type": "stream",
          "name": "stderr",
          "text": [
            "/usr/local/lib/python3.7/dist-packages/sklearn/metrics/_classification.py:1318: UndefinedMetricWarning: Precision and F-score are ill-defined and being set to 0.0 in labels with no predicted samples. Use `zero_division` parameter to control this behavior.\n",
            "  _warn_prf(average, modifier, msg_start, len(result))\n",
            "/usr/local/lib/python3.7/dist-packages/sklearn/metrics/_classification.py:1318: UndefinedMetricWarning: Precision and F-score are ill-defined and being set to 0.0 in labels with no predicted samples. Use `zero_division` parameter to control this behavior.\n",
            "  _warn_prf(average, modifier, msg_start, len(result))\n",
            "/usr/local/lib/python3.7/dist-packages/sklearn/metrics/_classification.py:1318: UndefinedMetricWarning: Precision and F-score are ill-defined and being set to 0.0 in labels with no predicted samples. Use `zero_division` parameter to control this behavior.\n",
            "  _warn_prf(average, modifier, msg_start, len(result))\n"
          ]
        },
        {
          "output_type": "display_data",
          "data": {
            "text/plain": [
              "<Figure size 432x288 with 2 Axes>"
            ],
            "image/png": "[encoded data removed]"
          },
          "metadata": {
            "needs_background": "light"
          }
        }
      ]
    },
    {
      "cell_type": "code",
      "source": [
        "#Comportamiento en testeo\n",
        "\n",
        "probs = gnb.predict_proba(X_test_std)[:,1]\n",
        "y_pred_test_gnb_umbral = probs > umbral\n",
        "\n",
        "sns.heatmap(confusion_matrix(y_test, y_pred_test_gnb_umbral), annot=True, cmap='PuBu', fmt='0.0f', linewidths=0.25, \n",
        "           annot_kws={'size':13} )\n",
        "plt.xlabel('Predichos')\n",
        "plt.ylabel('Reales')\n",
        "\n",
        "print('Accuracy del modelo de NaiveBayes (Testeo):    ', accuracy_score(y_test, y_pred_test_gnb_umbral).round(3))\n",
        "print('Recall del modelo de Naive Bayes (Testeo):     ', recall_score(y_test, y_pred_test_gnb_umbral).round(3))\n",
        "\n",
        "print('Rporte del modelo de ' + model_name + ' :   \\n', classification_report(y_test, y_pred_test_gnb_umbral))"
      ],
      "metadata": {
        "colab": {
          "base_uri": "https://localhost:8080/",
          "height": 646
        },
        "id": "7hLneyy6gXOS",
        "outputId": "a9191e91-2dcc-4bc2-ab62-72c7ddaceef7"
      },
      "execution_count": null,
      "outputs": [
        {
          "output_type": "stream",
          "name": "stderr",
          "text": [
            "/usr/local/lib/python3.7/dist-packages/sklearn/base.py:451: UserWarning: X does not have valid feature names, but GaussianNB was fitted with feature names\n",
            "  \"X does not have valid feature names, but\"\n",
            "/usr/local/lib/python3.7/dist-packages/sklearn/metrics/_classification.py:1318: UndefinedMetricWarning: Precision and F-score are ill-defined and being set to 0.0 in labels with no predicted samples. Use `zero_division` parameter to control this behavior.\n",
            "  _warn_prf(average, modifier, msg_start, len(result))\n",
            "/usr/local/lib/python3.7/dist-packages/sklearn/metrics/_classification.py:1318: UndefinedMetricWarning: Precision and F-score are ill-defined and being set to 0.0 in labels with no predicted samples. Use `zero_division` parameter to control this behavior.\n",
            "  _warn_prf(average, modifier, msg_start, len(result))\n",
            "/usr/local/lib/python3.7/dist-packages/sklearn/metrics/_classification.py:1318: UndefinedMetricWarning: Precision and F-score are ill-defined and being set to 0.0 in labels with no predicted samples. Use `zero_division` parameter to control this behavior.\n",
            "  _warn_prf(average, modifier, msg_start, len(result))\n"
          ]
        },
        {
          "output_type": "stream",
          "name": "stdout",
          "text": [
            "Accuracy del modelo de NaiveBayes (Testeo):     0.391\n",
            "Recall del modelo de Naive Bayes (Testeo):      1.0\n",
            "Rporte del modelo de Reg. Logistica :   \n",
            "               precision    recall  f1-score   support\n",
            "\n",
            "           0       0.00      0.00      0.00       499\n",
            "           1       0.39      1.00      0.56       320\n",
            "\n",
            "    accuracy                           0.39       819\n",
            "   macro avg       0.20      0.50      0.28       819\n",
            "weighted avg       0.15      0.39      0.22       819\n",
            "\n"
          ]
        },
        {
          "output_type": "display_data",
          "data": {
            "text/plain": [
              "<Figure size 432x288 with 2 Axes>"
            ],
            "image/png": "[encoded data removed]"
          },
          "metadata": {
            "needs_background": "light"
          }
        }
      ]
    },
    {
      "cell_type": "markdown",
      "source": [
        "# **5. MODELO ADA BOOST**"
      ],
      "metadata": {
        "id": "Pkd9oVGqhLYb"
      }
    },
    {
      "cell_type": "code",
      "source": [
        "dtc = DecisionTreeClassifier(max_depth = 2, \n",
        "                             min_samples_split = 6)\n",
        "\n",
        "ada = AdaBoostClassifier(base_estimator = dtc, \n",
        "                         n_estimators = 650,\n",
        "                         learning_rate = 0.7)"
      ],
      "metadata": {
        "id": "haRuFmoChV6v"
      },
      "execution_count": null,
      "outputs": []
    },
    {
      "cell_type": "code",
      "source": [
        "ada.fit(X_train_std, y_train)\n",
        "\n",
        "y_train_pred_ada = ada.predict(X_train_std)"
      ],
      "metadata": {
        "id": "2mdWCTkGhbej"
      },
      "execution_count": null,
      "outputs": []
    },
    {
      "cell_type": "code",
      "source": [
        "#Comportamiento en el entrenamiento\n",
        "umbral = 0.5\n",
        "probs = ada.predict_proba(X_train_std)[:,1]\n",
        "y_pred_train_ada_umbral = probs > umbral\n",
        "\n",
        "sns.heatmap(confusion_matrix(y_train, y_pred_train_ada_umbral), annot=True, cmap='PuBu', fmt='0.0f', linewidths=0.25, \n",
        "           annot_kws={'size':13} )\n",
        "plt.xlabel('Predichos')\n",
        "plt.ylabel('Reales')\n",
        "\n",
        "print('Accuracy del modelo de AdaBoost:    ', accuracy_score(y_train, y_pred_train_ada_umbral).round(3))\n",
        "print('Recall del modelo de AdaBoost:    ', recall_score(y_train, y_pred_train_ada_umbral).round(3))"
      ],
      "metadata": {
        "colab": {
          "base_uri": "https://localhost:8080/",
          "height": 314
        },
        "id": "rzEIm3PGhj5m",
        "outputId": "45b40e0e-b65b-4c5a-9612-620b46947c81"
      },
      "execution_count": null,
      "outputs": [
        {
          "output_type": "stream",
          "name": "stdout",
          "text": [
            "Accuracy del modelo de AdaBoost:     1.0\n",
            "Recall del modelo de AdaBoost:     1.0\n"
          ]
        },
        {
          "output_type": "display_data",
          "data": {
            "text/plain": [
              "<Figure size 432x288 with 2 Axes>"
            ],
            "image/png": "[encoded data removed]"
          },
          "metadata": {
            "needs_background": "light"
          }
        }
      ]
    },
    {
      "cell_type": "code",
      "source": [
        "#Comportamiento en el testeo\n",
        "\n",
        "probs = ada.predict_proba(X_test_std)[:,1]\n",
        "y_pred_test_ada_umbral = probs > umbral\n",
        "\n",
        "sns.heatmap(confusion_matrix(y_test, y_pred_test_ada_umbral), annot=True, cmap='PuBu', fmt='0.0f', linewidths=0.25, \n",
        "           annot_kws={'size':13} )\n",
        "plt.xlabel('Predichos')\n",
        "plt.ylabel('Reales')\n",
        "\n",
        "print('Accuracy del modelo de AdaBoost (Testeo):    ', accuracy_score(y_test, y_pred_test_ada_umbral).round(3))\n",
        "print('Recall del modelo de AdaBoost (Testeo):    ', recall_score(y_test, y_pred_test_ada_umbral).round(3))"
      ],
      "metadata": {
        "colab": {
          "base_uri": "https://localhost:8080/",
          "height": 368
        },
        "id": "cIpXQ2MniOYH",
        "outputId": "78e9bca4-1d23-4f1f-f79f-b8701fbba8dc"
      },
      "execution_count": null,
      "outputs": [
        {
          "output_type": "stream",
          "name": "stderr",
          "text": [
            "/usr/local/lib/python3.7/dist-packages/sklearn/base.py:451: UserWarning: X does not have valid feature names, but AdaBoostClassifier was fitted with feature names\n",
            "  \"X does not have valid feature names, but\"\n"
          ]
        },
        {
          "output_type": "stream",
          "name": "stdout",
          "text": [
            "Accuracy del modelo de AdaBoost (Testeo):     0.585\n",
            "Recall del modelo de AdaBoost (Testeo):     0.434\n"
          ]
        },
        {
          "output_type": "display_data",
          "data": {
            "text/plain": [
              "<Figure size 432x288 with 2 Axes>"
            ],
            "image/png": "[encoded data removed]"
          },
          "metadata": {
            "needs_background": "light"
          }
        }
      ]
    },
    {
      "cell_type": "code",
      "source": [
        "#Parametros\n",
        "\n",
        "dtc = DecisionTreeClassifier(max_depth = 2, \n",
        "                             min_samples_split = 6)\n",
        "\n",
        "#lrc = LogisticRegression(penalty='l2', C=1.0, class_weight='balanced', solver='saga', tol=0.001, max_iter=1500)\n",
        "\n",
        "ada = AdaBoostClassifier(base_estimator = dtc, \n",
        "                         n_estimators = 650,\n",
        "                         learning_rate = 0.7)"
      ],
      "metadata": {
        "id": "Kiwa_ljyiG0s"
      },
      "execution_count": null,
      "outputs": []
    },
    {
      "cell_type": "code",
      "source": [
        "param_grid = {'base_estimator__max_depth': [2, 3, 5],\n",
        "              'base_estimator__min_samples_split': [6, 24, 96],\n",
        "              'base_estimator__max_features': [None, 10, 6],\n",
        "              'base_estimator__class_weight': [None, 'balanced'],\n",
        "              'base_estimator__splitter': [\"best\", \"random\"],\n",
        "              'n_estimators': [10, 30, 100],\n",
        "              'learning_rate': [0.3, 0.5, 0.7]\n",
        "             }"
      ],
      "metadata": {
        "id": "WYfmb86FkoUn"
      },
      "execution_count": null,
      "outputs": []
    },
    {
      "cell_type": "code",
      "source": [
        "#scorer = make_scorer(fbeta_score, beta=4)\n",
        "\n",
        "grid_obj = GridSearchCV(ada, param_grid, scoring = 'recall', n_jobs=-1, verbose=1, cv=3)"
      ],
      "metadata": {
        "id": "XwCjbP55kubS"
      },
      "execution_count": null,
      "outputs": []
    },
    {
      "cell_type": "code",
      "source": [
        "grid_fit = grid_obj.fit(x_train, y_train)"
      ],
      "metadata": {
        "colab": {
          "base_uri": "https://localhost:8080/"
        },
        "id": "048qJ0OIkv0O",
        "outputId": "61dec65e-83a4-44d8-c915-74f424ecfa3a"
      },
      "execution_count": null,
      "outputs": [
        {
          "output_type": "stream",
          "name": "stdout",
          "text": [
            "Fitting 3 folds for each of 972 candidates, totalling 2916 fits\n"
          ]
        },
        {
          "output_type": "stream",
          "name": "stderr",
          "text": [
            "/usr/local/lib/python3.7/dist-packages/sklearn/model_selection/_validation.py:372: FitFailedWarning: \n",
            "972 fits failed out of a total of 2916.\n",
            "The score on these train-test partitions for these parameters will be set to nan.\n",
            "If these failures are not expected, you can try to debug them by setting error_score='raise'.\n",
            "\n",
            "Below are more details about the failures:\n",
            "--------------------------------------------------------------------------------\n",
            "972 fits failed with the following error:\n",
            "Traceback (most recent call last):\n",
            "  File \"/usr/local/lib/python3.7/dist-packages/sklearn/model_selection/_validation.py\", line 680, in _fit_and_score\n",
            "    estimator.fit(X_train, y_train, **fit_params)\n",
            "  File \"/usr/local/lib/python3.7/dist-packages/sklearn/ensemble/_weight_boosting.py\", line 486, in fit\n",
            "    return super().fit(X, y, sample_weight)\n",
            "  File \"/usr/local/lib/python3.7/dist-packages/sklearn/ensemble/_weight_boosting.py\", line 146, in fit\n",
            "    iboost, X, y, sample_weight, random_state\n",
            "  File \"/usr/local/lib/python3.7/dist-packages/sklearn/ensemble/_weight_boosting.py\", line 548, in _boost\n",
            "    return self._boost_real(iboost, X, y, sample_weight, random_state)\n",
            "  File \"/usr/local/lib/python3.7/dist-packages/sklearn/ensemble/_weight_boosting.py\", line 557, in _boost_real\n",
            "    estimator.fit(X, y, sample_weight=sample_weight)\n",
            "  File \"/usr/local/lib/python3.7/dist-packages/sklearn/tree/_classes.py\", line 942, in fit\n",
            "    X_idx_sorted=X_idx_sorted,\n",
            "  File \"/usr/local/lib/python3.7/dist-packages/sklearn/tree/_classes.py\", line 308, in fit\n",
            "    raise ValueError(\"max_features must be in (0, n_features]\")\n",
            "ValueError: max_features must be in (0, n_features]\n",
            "\n",
            "  warnings.warn(some_fits_failed_message, FitFailedWarning)\n",
            "/usr/local/lib/python3.7/dist-packages/sklearn/model_selection/_search.py:972: UserWarning: One or more of the test scores are non-finite: [0.15761168 0.22962382 0.33819553 0.19522597 0.28186063 0.36851162\n",
            " 0.21922675 0.33823798 0.39769135 0.10856844 0.17643678 0.24118665\n",
            " 0.13989028 0.20673328 0.30063349 0.16913205 0.2557406  0.30379768\n",
            " 0.15865661 0.22546369 0.33302312 0.20984195 0.27350444 0.3757837\n",
            " 0.21190896 0.30274621 0.39771095 0.09707746 0.17429141 0.23177573\n",
            " 0.12944096 0.23801267 0.27662944 0.22761233 0.24014498 0.30688676\n",
            " 0.15657328 0.22653801 0.31107628 0.19102991 0.29126502 0.37055577\n",
            " 0.23278474 0.29751829 0.37891523 0.07305055 0.17746212 0.25156087\n",
            " 0.15034613 0.19313284 0.27559757 0.18375131 0.25154781 0.29750849\n",
            "        nan        nan        nan        nan        nan        nan\n",
            "        nan        nan        nan        nan        nan        nan\n",
            "        nan        nan        nan        nan        nan        nan\n",
            "        nan        nan        nan        nan        nan        nan\n",
            "        nan        nan        nan        nan        nan        nan\n",
            "        nan        nan        nan        nan        nan        nan\n",
            "        nan        nan        nan        nan        nan        nan\n",
            "        nan        nan        nan        nan        nan        nan\n",
            "        nan        nan        nan        nan        nan        nan\n",
            " 0.15552181 0.22445794 0.29960489 0.19623171 0.28706243 0.36850183\n",
            " 0.22546042 0.30277887 0.37893809 0.08035201 0.13882902 0.20358869\n",
            " 0.1263127  0.19837709 0.2787291  0.14819423 0.22859522 0.29545128\n",
            " 0.15657981 0.20460423 0.29646356 0.2004343  0.28394397 0.35179271\n",
            " 0.23379702 0.31944227 0.38621016 0.07518613 0.15447688 0.21927247\n",
            " 0.10439198 0.19833137 0.27144723 0.15658307 0.23068508 0.28918822\n",
            " 0.14406348 0.20879702 0.29021356 0.2066843  0.2515674  0.35282132\n",
            " 0.25158373 0.2912291  0.37263911 0.04073602 0.18582484 0.22860828\n",
            " 0.13048263 0.18684692 0.25889825 0.14300875 0.21926594 0.27038924\n",
            " 0.22341301 0.3027756  0.39564067 0.25683124 0.34866771 0.42380812\n",
            " 0.31107628 0.39144462 0.42376241 0.14405368 0.22757968 0.33926006\n",
            " 0.20774556 0.26305185 0.34866445 0.21920716 0.31947166 0.38203696\n",
            " 0.22550287 0.30273968 0.38205982 0.26202325 0.34968325 0.43112591\n",
            " 0.30376176 0.39351816 0.4258588  0.16182732 0.18269005 0.3131988\n",
            " 0.17850379 0.29646682 0.35805577 0.20357889 0.2860273  0.37057863\n",
            " 0.21295716 0.2818639  0.3716105  0.29021029 0.36225509 0.38831635\n",
            " 0.30064655 0.37997975 0.41859653 0.15241967 0.20043757 0.30377155\n",
            " 0.18686978 0.2683157  0.3361024  0.22443508 0.28288271 0.37786377\n",
            "        nan        nan        nan        nan        nan        nan\n",
            "        nan        nan        nan        nan        nan        nan\n",
            "        nan        nan        nan        nan        nan        nan\n",
            "        nan        nan        nan        nan        nan        nan\n",
            "        nan        nan        nan        nan        nan        nan\n",
            "        nan        nan        nan        nan        nan        nan\n",
            "        nan        nan        nan        nan        nan        nan\n",
            "        nan        nan        nan        nan        nan        nan\n",
            "        nan        nan        nan        nan        nan        nan\n",
            " 0.19838036 0.29542842 0.39457615 0.2568541  0.36635645 0.40080656\n",
            " 0.3194488  0.3705623  0.40920193 0.11798589 0.20668757 0.31318574\n",
            " 0.18371212 0.26305185 0.32467019 0.20040818 0.25161311 0.4071284\n",
            " 0.2014825  0.30901254 0.38935802 0.26619318 0.33301659 0.37892829\n",
            " 0.28077325 0.37371016 0.41649033 0.10962644 0.21089668 0.29648968\n",
            " 0.14196708 0.23694488 0.3277658  0.17127416 0.28708529 0.37160724\n",
            " 0.22339015 0.24534679 0.38307863 0.25052573 0.35910724 0.39455329\n",
            " 0.31735893 0.37054598 0.41124608 0.15449974 0.21088036 0.27767111\n",
            " 0.17225705 0.24842607 0.3215158  0.16072362 0.26202652 0.35493404\n",
            " 0.32049373 0.38307863 0.38625261 0.35181883 0.4185704  0.40396421\n",
            " 0.39875914 0.43527952 0.43111612 0.19314916 0.33090387 0.43944292\n",
            " 0.27565961 0.36116118 0.4217052  0.31003461 0.38310475 0.41230081\n",
            " 0.28082876 0.37997649 0.40082288 0.3288238  0.41234326 0.43422806\n",
            " 0.38309496 0.41338166 0.43320925 0.24428553 0.32572166 0.37476489\n",
            " 0.24220219 0.36329023 0.43006139 0.29335162 0.35698472 0.44571904\n",
            " 0.25683451 0.36326411 0.40603775 0.33199778 0.39981714 0.39455003\n",
            " 0.35597244 0.41857693 0.42064394 0.22757315 0.28810737 0.39040948\n",
            " 0.27037618 0.33193247 0.41543561 0.31107955 0.36222897 0.43217085\n",
            "        nan        nan        nan        nan        nan        nan\n",
            "        nan        nan        nan        nan        nan        nan\n",
            "        nan        nan        nan        nan        nan        nan\n",
            "        nan        nan        nan        nan        nan        nan\n",
            "        nan        nan        nan        nan        nan        nan\n",
            "        nan        nan        nan        nan        nan        nan\n",
            "        nan        nan        nan        nan        nan        nan\n",
            "        nan        nan        nan        nan        nan        nan\n",
            "        nan        nan        nan        nan        nan        nan\n",
            " 0.32361546 0.37475509 0.41644462 0.37478122 0.41231061 0.37363832\n",
            " 0.38625914 0.44987591 0.3925222  0.19624151 0.30899295 0.39876567\n",
            " 0.27243012 0.35808843 0.41646421 0.2568541  0.38411703 0.41441027\n",
            " 0.31734914 0.41125588 0.37576737 0.37788989 0.41233999 0.4196186\n",
            " 0.39772401 0.43942986 0.43529585 0.20459444 0.29648968 0.37686782\n",
            " 0.21187304 0.34553945 0.39355734 0.27241053 0.37996669 0.44262017\n",
            " 0.27140805 0.3632837  0.41753853 0.32463754 0.3945337  0.41961533\n",
            " 0.37471917 0.4123302  0.45092411 0.18891392 0.26619645 0.34029193\n",
            " 0.24424961 0.31836142 0.39561129 0.26202652 0.37267176 0.42591432\n",
            " 0.40401319 0.48957027 0.47389303 0.43949843 0.49372714 0.47391262\n",
            " 0.43734979 0.5135384  0.4624053  0.38215452 0.46249347 0.49060541\n",
            " 0.45204415 0.48334966 0.48747388 0.46764956 0.48539381 0.51252612\n",
            " 0.43118143 0.45410462 0.49688153 0.47070272 0.50205068 0.47910136\n",
            " 0.45823864 0.52085619 0.4624151  0.43634731 0.44784483 0.49582027\n",
            " 0.37481714 0.45303357 0.49064786 0.42382772 0.50211272 0.49688153\n",
            " 0.36644135 0.48638649 0.50105146 0.44571904 0.48016262 0.49163728\n",
            " 0.44888976 0.49374347 0.4906152  0.42801724 0.47913401 0.50207027\n",
            " 0.38622649 0.49898446 0.51355473 0.46038728 0.4874902  0.52398446\n",
            "        nan        nan        nan        nan        nan        nan\n",
            "        nan        nan        nan        nan        nan        nan\n",
            "        nan        nan        nan        nan        nan        nan\n",
            "        nan        nan        nan        nan        nan        nan\n",
            "        nan        nan        nan        nan        nan        nan\n",
            "        nan        nan        nan        nan        nan        nan\n",
            "        nan        nan        nan        nan        nan        nan\n",
            "        nan        nan        nan        nan        nan        nan\n",
            "        nan        nan        nan        nan        nan        nan\n",
            " 0.44374347 0.46138649 0.50001633 0.43319292 0.49058582 0.50000327\n",
            " 0.51880225 0.49372388 0.47908177 0.41651972 0.45513976 0.48745428\n",
            " 0.40904193 0.48435541 0.50103514 0.48643548 0.48644201 0.48538401\n",
            " 0.42281544 0.46245102 0.50311194 0.45096003 0.48120755 0.47078109\n",
            " 0.46757772 0.49998694 0.50415034 0.47181622 0.47705721 0.4958366\n",
            " 0.41338819 0.46347962 0.51566745 0.50307928 0.51668952 0.48749347\n",
            " 0.45621082 0.43846003 0.49371082 0.4604232  0.50103514 0.50626306\n",
            " 0.49585293 0.50104167 0.4812402  0.41448211 0.4540883  0.47709639\n",
            " 0.42486285 0.46666993 0.50417646 0.43115204 0.47913075 0.50834313\n",
            " 0.45619122 0.47287095 0.44259078 0.46034809 0.49580068 0.44150993\n",
            " 0.49480473 0.49685541 0.46450496 0.44682602 0.49473615 0.49477861\n",
            " 0.46661442 0.48432602 0.48749347 0.48963885 0.50103514 0.47185214\n",
            " 0.4321284  0.50518221 0.49476228 0.46351228 0.5166732  0.47074843\n",
            " 0.50417646 0.48433582 0.45512017 0.4123204  0.47180969 0.48330721\n",
            " 0.47396486 0.50206374 0.48330394 0.49475575 0.51459966 0.47390935\n",
            " 0.40296499 0.47390935 0.48012343 0.45402952 0.52504572 0.48955068\n",
            " 0.50420912 0.49685867 0.45092738 0.43953435 0.47182602 0.4906348\n",
            " 0.46448537 0.47912748 0.50314133 0.48964864 0.49685214 0.51979493\n",
            "        nan        nan        nan        nan        nan        nan\n",
            "        nan        nan        nan        nan        nan        nan\n",
            "        nan        nan        nan        nan        nan        nan\n",
            "        nan        nan        nan        nan        nan        nan\n",
            "        nan        nan        nan        nan        nan        nan\n",
            "        nan        nan        nan        nan        nan        nan\n",
            "        nan        nan        nan        nan        nan        nan\n",
            "        nan        nan        nan        nan        nan        nan\n",
            "        nan        nan        nan        nan        nan        nan\n",
            " 0.43851554 0.47914054 0.48542646 0.48222962 0.50523446 0.44054336\n",
            " 0.46871082 0.51355473 0.44888976 0.42801724 0.49276385 0.48957027\n",
            " 0.44682275 0.48541014 0.48223289 0.44473289 0.48431296 0.47705394\n",
            " 0.45304663 0.49266262 0.47285462 0.46347636 0.50103187 0.48019854\n",
            " 0.50310214 0.52503918 0.48952129 0.47289381 0.49478187 0.51460619\n",
            " 0.49276711 0.47075496 0.50414707 0.44891262 0.51251959 0.49473615\n",
            " 0.47920259 0.48120428 0.48956048 0.50730146 0.50003265 0.47915034\n",
            " 0.52190765 0.50415361 0.48434888 0.42796826 0.46346983 0.50209313\n",
            " 0.45817986 0.49164054 0.47389629 0.43213166 0.51462252 0.52085946\n",
            " 0.46453109 0.43634404 0.40813741 0.46971003 0.44989877 0.38829023\n",
            " 0.48961272 0.45199843 0.42382445 0.43740204 0.48013976 0.436282\n",
            " 0.47706701 0.45824517 0.42692986 0.46238245 0.4759535  0.41335554\n",
            " 0.4854232  0.4540883  0.4196088  0.52824582 0.48329741 0.43108673\n",
            " 0.51457354 0.44883098 0.43108346 0.47916014 0.52503918 0.49475901\n",
            " 0.53232759 0.50626306 0.4822982  0.49997061 0.48951476 0.46872061\n",
            " 0.50630225 0.51561847 0.44672806 0.49687173 0.52297544 0.44572884\n",
            " 0.50416993 0.5156348  0.46556949 0.47283503 0.51879572 0.51776385\n",
            " 0.4927116  0.48327456 0.49163401 0.53341823 0.50208986 0.49580068\n",
            "        nan        nan        nan        nan        nan        nan\n",
            "        nan        nan        nan        nan        nan        nan\n",
            "        nan        nan        nan        nan        nan        nan\n",
            "        nan        nan        nan        nan        nan        nan\n",
            "        nan        nan        nan        nan        nan        nan\n",
            "        nan        nan        nan        nan        nan        nan\n",
            "        nan        nan        nan        nan        nan        nan\n",
            "        nan        nan        nan        nan        nan        nan\n",
            "        nan        nan        nan        nan        nan        nan\n",
            " 0.45412095 0.4561651  0.40290948 0.4958268  0.45822884 0.41339146\n",
            " 0.46764629 0.4634535  0.40713493 0.48325496 0.48955394 0.45197884\n",
            " 0.50209313 0.47801724 0.41961533 0.50417973 0.47601554 0.43530564\n",
            " 0.49272793 0.47181296 0.42690047 0.48541014 0.47072231 0.43421499\n",
            " 0.50523446 0.46554336 0.43002547 0.47189786 0.49583007 0.49891588\n",
            " 0.49477861 0.48122061 0.47181296 0.52296891 0.46976228 0.46030891\n",
            " 0.48228187 0.48533503 0.47808582 0.5271715  0.51250327 0.45512996\n",
            " 0.51041993 0.48854167 0.47388649 0.49377939 0.51250327 0.49166993\n",
            " 0.49064786 0.51670259 0.51355799 0.49478187 0.52505551 0.49059235]\n",
            "  category=UserWarning,\n"
          ]
        }
      ]
    },
    {
      "cell_type": "code",
      "source": [
        "best_ada = grid_fit.best_estimator_\n",
        "print(grid_fit.best_params_)\n",
        "print(grid_fit.best_score_)\n",
        "y_train_pred_ada_opt = best_ada.predict(x_train)\n",
        "y_test_pred_ada_opt = best_ada.predict(x_test)"
      ],
      "metadata": {
        "colab": {
          "base_uri": "https://localhost:8080/"
        },
        "id": "2BMuTT27mkMc",
        "outputId": "98ee57cf-e926-44b3-cf7b-9162f57d8c62"
      },
      "execution_count": null,
      "outputs": [
        {
          "output_type": "stream",
          "name": "stdout",
          "text": [
            "{'base_estimator__class_weight': 'balanced', 'base_estimator__max_depth': 5, 'base_estimator__max_features': None, 'base_estimator__min_samples_split': 96, 'base_estimator__splitter': 'random', 'learning_rate': 0.7, 'n_estimators': 10}\n",
            "0.5334182340647858\n"
          ]
        }
      ]
    },
    {
      "cell_type": "code",
      "source": [
        "sns.heatmap(confusion_matrix(y_train, y_train_pred_ada_opt), annot=True, cmap='PuBu', fmt='0.0f', linewidths=0.25, \n",
        "           annot_kws={'size':13} )\n",
        "plt.xlabel('Predichos')\n",
        "plt.ylabel('Reales')\n",
        "\n",
        "print('Accuracy del modelo de AdaBoost optimizado:    ', accuracy_score(y_train, y_train_pred_ada_opt).round(3))\n",
        "print('Recall del modelo de AdaBoost optimizado:    ', recall_score(y_train, y_train_pred_ada_opt).round(3))"
      ],
      "metadata": {
        "colab": {
          "base_uri": "https://localhost:8080/",
          "height": 314
        },
        "id": "x-yqM0DHsC4J",
        "outputId": "1189f6c3-de03-4ec2-9c48-4d39bcb10aa5"
      },
      "execution_count": null,
      "outputs": [
        {
          "output_type": "stream",
          "name": "stdout",
          "text": [
            "Accuracy del modelo de AdaBoost optimizado:     0.661\n",
            "Recall del modelo de AdaBoost optimizado:     0.508\n"
          ]
        },
        {
          "output_type": "display_data",
          "data": {
            "text/plain": [
              "<Figure size 432x288 with 2 Axes>"
            ],
            "image/png": "[encoded data removed]"
          },
          "metadata": {
            "needs_background": "light"
          }
        }
      ]
    },
    {
      "cell_type": "markdown",
      "source": [
        "# **CONCLUSIÓN**\n",
        "\n",
        "Apreciamos que los modelos aplicados no brindan una predicción coherente, no están pudiendo establecer un vínculo entre las features y el target. El ada Boost muestra claro un overfiting que se refleja en el testeo con un pobre rendimiento. \n",
        "\n",
        "Tal cual se previno en el preprocesamiento de datos, no es posible generar un modelo fiable con este data set, el problema es claro los datos no son fiables y puede presumirse que han sido generados de forma aleatoria y no por muestras reales. \n",
        "\n",
        "En conclusión, los datos obtenidos por el data set no son adecuados para generar ningún tipo de análisis serio o creación de algún modelo de predicción."
      ],
      "metadata": {
        "id": "lb-Uo8nHwat0"
      }
    },
    {
      "cell_type": "code",
      "source": [
        ""
      ],
      "metadata": {
        "id": "y5u9XtO6sNNV"
      },
      "execution_count": null,
      "outputs": []
    }
  ]
}